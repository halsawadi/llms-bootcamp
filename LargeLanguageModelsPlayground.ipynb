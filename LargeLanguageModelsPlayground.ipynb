{
 "cells": [
  {
   "cell_type": "markdown",
   "id": "737fbb9e-b85a-48ed-b09a-400076860968",
   "metadata": {},
   "source": [
    "<a target=\"_blank\" href=\"https://colab.research.google.com/github/halsawadi/llms-bootcamp/blob/master/LargeLanguageModelsPlayground.ipynb\">\n",
    "  <img src=\"https://colab.research.google.com/assets/colab-badge.svg\" alt=\"Open In Colab\"/>\n",
    "</a>"
   ]
  },
  {
   "cell_type": "markdown",
   "id": "5562b5fe",
   "metadata": {},
   "source": [
    "# Large Language Models Playground"
   ]
  },
  {
   "cell_type": "markdown",
   "id": "31b9881e-e8f7-48bf-b226-38db5e8cbdca",
   "metadata": {},
   "source": [
    "## Install packages"
   ]
  },
  {
   "cell_type": "code",
   "execution_count": null,
   "id": "b898b472-65ec-442f-82e9-7f7c1e8277ab",
   "metadata": {},
   "outputs": [],
   "source": [
    "! pip install cohere openai bardapi transformers"
   ]
  },
  {
   "cell_type": "markdown",
   "id": "f710ae19-871b-4e08-90f5-e9e64c09ba4d",
   "metadata": {},
   "source": [
    "## API Keys"
   ]
  },
  {
   "cell_type": "code",
   "execution_count": 2,
   "id": "7b520e4c",
   "metadata": {},
   "outputs": [],
   "source": [
    "COHERE_API_KEY=None\n",
    "OPENAI_API_KEY=None\n",
    "HF_TOKEN=None\n",
    "os.environ['_BARD_API_KEY'] = None"
   ]
  },
  {
   "cell_type": "markdown",
   "id": "dd7b1f83",
   "metadata": {},
   "source": [
    "## Text Completion / Generation"
   ]
  },
  {
   "cell_type": "code",
   "execution_count": 4,
   "id": "84199e4d",
   "metadata": {},
   "outputs": [],
   "source": [
    "LINKEDIN_POST_PROMPT = 'Write a LinkedIn post about earning a new certificate: '"
   ]
  },
  {
   "cell_type": "markdown",
   "id": "3cd463eb",
   "metadata": {},
   "source": [
    "### Cohere: `command`"
   ]
  },
  {
   "cell_type": "code",
   "execution_count": 7,
   "id": "4ce23131",
   "metadata": {},
   "outputs": [
    {
     "name": "stdout",
     "output_type": "stream",
     "text": [
      "Prediction: \n",
      "I am proud to announce that I have earned a new certificate in [topic]. This is a field that I am deeply passionate about and I am excited to continue learning and growing in it.\n",
      "\n",
      "The certificate was earned through [institution] and it was a rigorous and challenging program. I am grateful for the opportunity to have participated in it and I am excited to put what I have learned into practice.\n",
      "\n",
      "Thank you to everyone who has supported me in this journey. I am grateful for the love and support of my family and friends, and I am thankful for the opportunity to pursue my passions.\n",
      "\n",
      "Here's to new adventures and continued growth!\n"
     ]
    }
   ],
   "source": [
    "import cohere\n",
    "co = cohere.Client(COHERE_API_KEY) # This is your trial API key\n",
    "response = co.generate(\n",
    "  model='command',\n",
    "  prompt=LINKEDIN_POST_PROMPT,\n",
    "  max_tokens=300,\n",
    "  temperature=0.9,\n",
    "  k=0,\n",
    "  stop_sequences=[],\n",
    "  return_likelihoods='NONE')\n",
    "print('Prediction: {}'.format(response.generations[0].text))"
   ]
  },
  {
   "cell_type": "markdown",
   "id": "0cd36482",
   "metadata": {},
   "source": [
    "### OpenAI's GPT: `text-davinci-003`"
   ]
  },
  {
   "cell_type": "code",
   "execution_count": 66,
   "id": "93211e14",
   "metadata": {},
   "outputs": [
    {
     "name": "stdout",
     "output_type": "stream",
     "text": [
      "Prediction: \n",
      "\n",
      "I'm proud to announce I have just earned a new [certificate]! I'm excited to add this new piece of professional development to my portfolio and know that this new skill set will open up new career opportunities for me. #ProfessionalDevelopment #GrowthMindset #motivation #determination #success\n"
     ]
    }
   ],
   "source": [
    "import openai\n",
    "openai.api_key = OPENAI_API_KEY\n",
    "response = openai.Completion.create(\n",
    "  model=\"text-davinci-003\",\n",
    "  prompt=LINKEDIN_POST_PROMPT,\n",
    "  temperature=1,\n",
    "  max_tokens=256,\n",
    "  top_p=1,\n",
    "  frequency_penalty=0,\n",
    "  presence_penalty=0\n",
    ")\n",
    "print('Prediction: {}'.format(response.choices[0].text))"
   ]
  },
  {
   "cell_type": "markdown",
   "id": "2286abb4",
   "metadata": {},
   "source": [
    "### Google's Bard"
   ]
  },
  {
   "cell_type": "code",
   "execution_count": 5,
   "id": "00209d30",
   "metadata": {},
   "outputs": [
    {
     "data": {
      "text/plain": [
       "\"Sure, here is a LinkedIn post about earning a new certificate:\\n\\n**Title:** I'm excited to announce that I've earned my **Google Cloud Certified - Associate Cloud Engineer** certification!\\n\\n**Body:**\\n\\nI'm so excited to share that I've just earned my Google Cloud Certified - Associate Cloud Engineer certification! This certification validates my skills and expertise in designing, implementing, and managing cloud solutions on Google Cloud Platform.\\n\\nI've been working in the cloud computing industry for the past few years, and I've seen firsthand the growing demand for cloud skills. This certification will help me stay ahead of the curve and demonstrate my expertise to potential employers.\\n\\nI'm grateful to the Google Cloud team for providing such a comprehensive and challenging certification program. I learned a lot throughout the process, and I'm confident that these skills will be valuable in my career.\\n\\nIf you're interested in learning more about cloud computing, I highly recommend checking out the Google Cloud Certified - Associate Cloud Engineer certification program. It's a great way to validate your skills and demonstrate your expertise to potential employers.\\n\\n**Call to action:**\\n\\nI'm always happy to talk about cloud computing, so feel free to reach out if you have any questions. You can also connect with me on LinkedIn to stay up-to-date on my latest projects.\\n\\n**Hashtags:**\\n\\n* #GoogleCloud\\n* #CloudComputing\\n* #Certification\\n* #Learning\\n* #Accomplishment\\n\\n**LinkedIn profile link:**\\n\\n[Your LinkedIn profile link]\\n\\n**Image:**\\n\\n[Image of your certificate]\\n\\nI hope this helps!\""
      ]
     },
     "execution_count": 5,
     "metadata": {},
     "output_type": "execute_result"
    }
   ],
   "source": [
    "from bardapi import Bard\n",
    "import os\n",
    "\n",
    "Bard().get_answer(LINKEDIN_POST_PROMPT)['content']"
   ]
  },
  {
   "cell_type": "markdown",
   "id": "6a785581",
   "metadata": {},
   "source": [
    "### Bloom"
   ]
  },
  {
   "cell_type": "code",
   "execution_count": 72,
   "id": "9003ea1f",
   "metadata": {},
   "outputs": [
    {
     "name": "stdout",
     "output_type": "stream",
     "text": [
      "Prediction: Write a LinkedIn post about earning a new certificate:  I have a new certificate in X.  I am now qualified to do Y.  I am looking for a job in Z.  I am available for a phone interview.  I am available for an in-person interview.  I am available for a job shadowing opportunity.  I am available for a paid internship.  I am available for a volunteer opportunity.  I am available for a paid job.  I am available for a paid internship.  I am available for a volunteer opportunity.  I am available for a paid job.  I am available for a paid internship.  I am available for a volunteer opportunity.  I am available for a paid job.  I am available for a paid internship.  I am available for a volunteer opportunity.  I am available for a paid job.  I am available for a paid internship.  I am available for a volunteer opportunity.  I am available for a paid job.  I am available for a paid internship.  I am available for a volunteer opportunity.  I am available for a paid job.  I am available for a paid internship.  I am available for a volunteer opportunity.  I am available for a paid job.  I am available for a paid internship.  I am available for a volunteer opportunity.  I am available for a paid job.  I am available for\n"
     ]
    }
   ],
   "source": [
    "import requests\n",
    "BLOOM_API_URL = \"https://api-inference.huggingface.co/models/bigscience/bloom\"\n",
    "headers = {\"Authorization\": f\"Bearer {HF_TOKEN}\"}\n",
    "def query(payload):\n",
    "\tresponse = requests.post(BLOOM_API_URL, headers=headers, json=payload)\n",
    "\treturn response.json()\n",
    "\t\n",
    "output = query({\n",
    "\t\"inputs\": LINKEDIN_POST_PROMPT,\n",
    "    \"parameters\": {\n",
    "        \"max_new_tokens\": 256,\n",
    "  }\n",
    "\n",
    "})\n",
    "output\n",
    "print('Prediction: {}'.format(output[0]['generated_text']))"
   ]
  },
  {
   "cell_type": "markdown",
   "id": "4b7f6629",
   "metadata": {},
   "source": [
    "## Classification"
   ]
  },
  {
   "cell_type": "markdown",
   "id": "ec2d6e8c",
   "metadata": {},
   "source": [
    "### Customer Support using cohere"
   ]
  },
  {
   "cell_type": "code",
   "execution_count": 30,
   "id": "d6cf5129",
   "metadata": {},
   "outputs": [],
   "source": [
    "import cohere  \n",
    "co = cohere.Client(COHERE_API_KEY)"
   ]
  },
  {
   "cell_type": "code",
   "execution_count": 31,
   "id": "c3dbd8bf",
   "metadata": {},
   "outputs": [],
   "source": [
    "from cohere.responses.classify import Example\n",
    "\n",
    "\n",
    "examples=[\n",
    "  Example(\"How do I find my insurance policy?\", \"Finding policy details\"),\n",
    "  Example(\"How do I download a copy of my insurance policy?\", \"Finding policy details\"),\n",
    "  Example(\"How do I find my policy effective date?\", \"Finding policy details\"),\n",
    "  Example(\"When does my insurance policy end?\", \"Finding policy details\"),\n",
    "  Example(\"Could you please tell me the date my policy becomes effective?\", \"Finding policy details\"),\n",
    "  Example(\"How do I sign up for electronic filing?\", \"Change account settings\"),\n",
    "  Example(\"How do I change my policy?\", \"Change account settings\"),\n",
    "  Example(\"How do I sign up for direct deposit?\", \"Change account settings\"),\n",
    "  Example(\"I want direct deposit. Can you help with that?\", \"Change account settings\"),\n",
    "  Example(\"Could you deposit money into my account rather than mailing me a physical cheque?\", \"Change account settings\"),\n",
    "  Example(\"How do I file an insurance claim?\", \"Filing a claim and viewing status\"),\n",
    "  Example(\"How do I file a reimbursement claim?\", \"Filing a claim and viewing status\"),\n",
    "  Example(\"How do I check my claim status?\", \"Filing a claim and viewing status\"),\n",
    "  Example(\"When will my claim be reimbursed?\", \"Filing a claim and viewing status\"),\n",
    "  Example(\"I filed my claim 2 weeks ago but I still haven’t received a deposit for it.\", \"Filing a claim and viewing status\"),\n",
    "  Example(\"I want to cancel my policy immediately! This is nonsense.\", \"Cancelling coverage\"),\n",
    "  Example(\"Could you please help my end my insurance coverage? Thank you.\",\n",
    "  \"Cancelling coverage\"),\n",
    "  Example(\"Your service sucks. I’m switching providers. Cancel my coverage.\", \"Cancelling coverage\"),\n",
    "  Example(\"Hello there! How do I cancel my coverage?\", \"Cancelling coverage\"),\n",
    "  Example(\"How do I delete my account?\", \"Cancelling coverage\")\n",
    "]"
   ]
  },
  {
   "cell_type": "code",
   "execution_count": 34,
   "id": "66eb3091",
   "metadata": {},
   "outputs": [],
   "source": [
    "inputs=[\" I want to change my password\",\n",
    "        \"Does my policy cover prescription medication?\"\n",
    "        ]"
   ]
  },
  {
   "cell_type": "code",
   "execution_count": 36,
   "id": "30dc63a7",
   "metadata": {},
   "outputs": [
    {
     "name": "stdout",
     "output_type": "stream",
     "text": [
      "[Classification<prediction: \"Change account settings\", confidence: 0.98838955, labels: {'Cancelling coverage': LabelPrediction(confidence=0.010111577), 'Change account settings': LabelPrediction(confidence=0.98838955), 'Filing a claim and viewing status': LabelPrediction(confidence=0.00029747005), 'Finding policy details': LabelPrediction(confidence=0.0012014023)}>, Classification<prediction: \"Finding policy details\", confidence: 0.82518584, labels: {'Cancelling coverage': LabelPrediction(confidence=0.054294877), 'Change account settings': LabelPrediction(confidence=0.078222744), 'Filing a claim and viewing status': LabelPrediction(confidence=0.042296577), 'Finding policy details': LabelPrediction(confidence=0.82518584)}>]\n"
     ]
    }
   ],
   "source": [
    "response = co.classify(  \n",
    "    model='large',  \n",
    "    inputs=inputs,  \n",
    "    examples=examples)\n",
    "\n",
    "print(response.classifications)"
   ]
  },
  {
   "cell_type": "markdown",
   "id": "b2f6adf5",
   "metadata": {},
   "source": [
    "## Question Answering"
   ]
  },
  {
   "cell_type": "code",
   "execution_count": 3,
   "id": "98c69431",
   "metadata": {},
   "outputs": [
    {
     "name": "stderr",
     "output_type": "stream",
     "text": [
      "No model was supplied, defaulted to distilbert-base-cased-distilled-squad and revision 626af31 (https://huggingface.co/distilbert-base-cased-distilled-squad).\n",
      "Using a pipeline without specifying a model name and revision in production is not recommended.\n"
     ]
    },
    {
     "name": "stdout",
     "output_type": "stream",
     "text": [
      "Answer: İstanbul\n"
     ]
    }
   ],
   "source": [
    "from transformers import pipeline\n",
    "\n",
    "qa_model = pipeline(\"question-answering\")\n",
    "question = \"Where do I live?\"\n",
    "context = \"My name is Merve and I live in İstanbul.\"\n",
    "response = qa_model(question = question, context = context)\n",
    "print('Answer: {}'.format(response['answer']))\n",
    "## {'answer': 'İstanbul', 'end': 39, 'score': 0.953, 'start': 31}"
   ]
  },
  {
   "cell_type": "code",
   "execution_count": 4,
   "id": "14f73ec7",
   "metadata": {},
   "outputs": [
    {
     "name": "stdout",
     "output_type": "stream",
     "text": [
      "Prediction: \n",
      "\n",
      "You live where you live.\n"
     ]
    }
   ],
   "source": [
    "import openai\n",
    "openai.api_key = OPENAI_API_KEY\n",
    "response = openai.Completion.create(\n",
    "  model=\"text-davinci-003\",\n",
    "  prompt='Where do I live?',\n",
    "  temperature=1,\n",
    "  max_tokens=256,\n",
    "  top_p=1,\n",
    "  frequency_penalty=0,\n",
    "  presence_penalty=0\n",
    ")\n",
    "print('Prediction: {}'.format(response.choices[0].text))"
   ]
  },
  {
   "cell_type": "markdown",
   "id": "d13cf739",
   "metadata": {},
   "source": [
    "## Summarization"
   ]
  },
  {
   "cell_type": "markdown",
   "id": "fe39ae55",
   "metadata": {},
   "source": [
    "### cohere"
   ]
  },
  {
   "cell_type": "markdown",
   "id": "f3495e7c",
   "metadata": {},
   "source": [
    "The tower is 324 metres (1,063 ft) tall, about the same height as an 81-storey building, and the tallest structure in Paris. Its base is square, measuring 125 metres (410 ft) on each side. During its construction, the Eiffel Tower surpassed the Washington Monument to become the tallest man-made structure in the world, a title it held for 41 years until the Chrysler Building in New York City was finished in 1930. It was the first structure to reach a height of 300 metres. Due to the addition of a broadcasting aerial at the top of the tower in 1957, it is now taller than the Chrysler Building by 5.2 metres (17 ft). Excluding transmitters, the Eiffel Tower is the second tallest free-standing structure in France after the Millau Viaduct."
   ]
  },
  {
   "cell_type": "code",
   "execution_count": 74,
   "id": "b33c3100",
   "metadata": {},
   "outputs": [
    {
     "name": "stdout",
     "output_type": "stream",
     "text": [
      "Summary: - The Eiffel Tower is a monument in Paris, France, and the tallest structure in Paris.\n",
      "- The tower is 324 metres (1,063 ft) tall, about the same height as an 81-storey building.\n",
      "- The Eiffel Tower is the second tallest free-standing structure in France after the Millau Viaduct.\n"
     ]
    }
   ],
   "source": [
    "import cohere \n",
    "co = cohere.Client(COHERE_API_KEY) # This is your trial API key\n",
    "response = co.summarize( \n",
    "  text='The tower is 324 metres (1,063 ft) tall, about the same height as an 81-storey building, and the tallest structure in Paris. Its base is square, measuring 125 metres (410 ft) on each side. During its construction, the Eiffel Tower surpassed the Washington Monument to become the tallest man-made structure in the world, a title it held for 41 years until the Chrysler Building in New York City was finished in 1930. It was the first structure to reach a height of 300 metres. Due to the addition of a broadcasting aerial at the top of the tower in 1957, it is now taller than the Chrysler Building by 5.2 metres (17 ft). Excluding transmitters, the Eiffel Tower is the second tallest free-standing structure in France after the Millau Viaduct.',\n",
    "  length='auto',\n",
    "  format='auto',\n",
    "  model='summarize-xlarge',\n",
    "  additional_command='',\n",
    "  temperature=0.3,\n",
    ") \n",
    "print('Summary:', response.summary)"
   ]
  },
  {
   "cell_type": "markdown",
   "id": "4b8aca99",
   "metadata": {},
   "source": [
    "### OpenAI's GPT"
   ]
  },
  {
   "cell_type": "code",
   "execution_count": 7,
   "id": "fa6e6578",
   "metadata": {},
   "outputs": [
    {
     "name": "stdout",
     "output_type": "stream",
     "text": [
      "Prediction: \n",
      "\n",
      "The Eiffel Tower is 324 metres tall, the tallest structure in Paris, and was the world's tallest man-made structure for 41 years until the Chrysler Building was finished in 1930. The base of the tower is 125 metres on each side. It is now taller than the Chrysler Building by 5.2 metres and is the second tallest free-standing structure in France after the Millau Viaduct.\n"
     ]
    }
   ],
   "source": [
    "import openai\n",
    "openai.api_key = OPENAI_API_KEY\n",
    "response = openai.Completion.create(\n",
    "  model=\"text-davinci-003\",\n",
    "  prompt='Summarize the following piece of text:\\nThe tower is 324 metres (1,063 ft) tall, about the same height as an 81-storey building, and the tallest structure in Paris. Its base is square, measuring 125 metres (410 ft) on each side. During its construction, the Eiffel Tower surpassed the Washington Monument to become the tallest man-made structure in the world, a title it held for 41 years until the Chrysler Building in New York City was finished in 1930. It was the first structure to reach a height of 300 metres. Due to the addition of a broadcasting aerial at the top of the tower in 1957, it is now taller than the Chrysler Building by 5.2 metres (17 ft). Excluding transmitters, the Eiffel Tower is the second tallest free-standing structure in France after the Millau Viaduct.',\n",
    "  temperature=1,\n",
    "  max_tokens=256,\n",
    "  top_p=1,\n",
    "  frequency_penalty=0,\n",
    "  presence_penalty=0\n",
    ")\n",
    "print('Prediction: {}'.format(response.choices[0].text))"
   ]
  },
  {
   "cell_type": "markdown",
   "id": "6f8d3d2a",
   "metadata": {},
   "source": [
    "### Bard"
   ]
  },
  {
   "cell_type": "code",
   "execution_count": 6,
   "id": "58eb5f29",
   "metadata": {},
   "outputs": [
    {
     "data": {
      "text/plain": [
       "'The Eiffel Tower is 324 meters tall and the tallest structure in Paris. It was the tallest man-made structure in the world for 41 years until the Chrysler Building was finished in 1930. It is now the second tallest free-standing structure in France after the Millau Viaduct.\\n\\nHere are some key facts about the Eiffel Tower:\\n\\n* Height: 324 meters (1,063 feet)\\n* Base: 125 meters (410 feet) on each side\\n* Tallest structure in Paris\\n* Was the tallest man-made structure in the world for 41 years\\n* Now the second tallest free-standing structure in France\\n* Was the first structure to reach a height of 300 meters\\n* Has a broadcasting aerial at the top that makes it taller than the Chrysler Building\\n\\nI hope this summary is helpful. Let me know if you have any other questions.'"
      ]
     },
     "execution_count": 6,
     "metadata": {},
     "output_type": "execute_result"
    }
   ],
   "source": [
    "from bardapi import Bard\n",
    "import os\n",
    "\n",
    "Bard().get_answer('Summarize the following piece of text:\\nThe tower is 324 metres (1,063 ft) tall, about the same height as an 81-storey building, and the tallest structure in Paris. Its base is square, measuring 125 metres (410 ft) on each side. During its construction, the Eiffel Tower surpassed the Washington Monument to become the tallest man-made structure in the world, a title it held for 41 years until the Chrysler Building in New York City was finished in 1930. It was the first structure to reach a height of 300 metres. Due to the addition of a broadcasting aerial at the top of the tower in 1957, it is now taller than the Chrysler Building by 5.2 metres (17 ft). Excluding transmitters, the Eiffel Tower is the second tallest free-standing structure in France after the Millau Viaduct.')['content']"
   ]
  },
  {
   "cell_type": "code",
   "execution_count": null,
   "id": "9f505195",
   "metadata": {},
   "outputs": [],
   "source": []
  }
 ],
 "metadata": {
  "kernelspec": {
   "display_name": "Python 3 (ipykernel)",
   "language": "python",
   "name": "python3"
  },
  "language_info": {
   "codemirror_mode": {
    "name": "ipython",
    "version": 3
   },
   "file_extension": ".py",
   "mimetype": "text/x-python",
   "name": "python",
   "nbconvert_exporter": "python",
   "pygments_lexer": "ipython3",
   "version": "3.10.9"
  }
 },
 "nbformat": 4,
 "nbformat_minor": 5
}
