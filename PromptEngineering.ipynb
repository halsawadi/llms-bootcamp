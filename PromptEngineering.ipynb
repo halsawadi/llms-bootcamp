{
 "cells": [
  {
   "cell_type": "markdown",
   "id": "07fc7508-0f2c-409b-928b-097b268d53a0",
   "metadata": {},
   "source": [
    "<a target=\"_blank\" href=\"https://colab.research.google.com/github/halsawadi/llms-bootcamp/blob/master/PromptEngineering.ipynb\">\n",
    "  <img src=\"https://colab.research.google.com/assets/colab-badge.svg\" alt=\"Open In Colab\"/>\n",
    "</a>"
   ]
  },
  {
   "cell_type": "markdown",
   "id": "d7717bd6-dd26-45be-a6ac-4ddcc85a2d8b",
   "metadata": {},
   "source": [
    "# Prompt Engineering"
   ]
  },
  {
   "cell_type": "markdown",
   "id": "b01fe05f-c60f-46b8-85a5-ac4df072e2aa",
   "metadata": {
    "id": "DBRGquet_pVB"
   },
   "source": [
    "# 1. Guidelines for Prompting\n",
    "In this lesson, you'll practice two prompting principles and their related tactics in order to write effective prompts for large language models.\n",
    "\n",
    "## Setup\n",
    "#### Load the API key and relevant Python libaries."
   ]
  },
  {
   "cell_type": "markdown",
   "id": "b7044828-c10b-40d5-812f-81ec82171cab",
   "metadata": {
    "id": "141y776q_xh-"
   },
   "source": [
    "In this course, we've provided some code that loads the OpenAI API key for you."
   ]
  },
  {
   "cell_type": "code",
   "execution_count": 3,
   "id": "b5f8d6e7-f5ab-4473-9623-e9ca307e8467",
   "metadata": {
    "id": "12WLF6e9_zuv"
   },
   "outputs": [],
   "source": [
    "import cohere\n",
    "import os\n",
    "\n",
    "from dotenv import load_dotenv, find_dotenv\n",
    "_ = load_dotenv(find_dotenv())\n",
    "\n",
    "cohere.api_key  = None"
   ]
  },
  {
   "cell_type": "markdown",
   "id": "c8789711-9004-4430-acff-92cc6f253d1f",
   "metadata": {
    "id": "kcgEj0dA_5gn"
   },
   "source": [
    "#### helper function\n",
    "Throughout this course, we will use OpenAI's `gpt-3.5-turbo` model and the [chat completions endpoint](https://platform.openai.com/docs/guides/chat). \n",
    "\n",
    "This helper function will make it easier to use prompts and look at the generated outputs:"
   ]
  },
  {
   "cell_type": "code",
   "execution_count": 51,
   "id": "d951c89c-11f5-472e-abef-370bd7378c75",
   "metadata": {},
   "outputs": [],
   "source": [
    "def get_completion(prompt, model=\"command-xlarge-20221108\"):\n",
    "    co = cohere.Client(cohere.api_key) # This is your trial API key\n",
    "    response = co.generate(\n",
    "        model='command',\n",
    "        prompt=prompt,\n",
    "        max_tokens=700,\n",
    "        temperature=0)\n",
    "    return response.generations[0].text"
   ]
  },
  {
   "cell_type": "markdown",
   "id": "ff566ff4-154b-48c7-9119-f8fb50042e99",
   "metadata": {
    "id": "5GWLzbFcAFSg"
   },
   "source": [
    "## Prompting Principles\n",
    "- **Principle 1: Write clear and specific instructions**\n",
    "- **Principle 2: Give the model time to “think”**\n",
    "\n",
    "### Tactics\n",
    "\n",
    "### Principle 1: Write clear and specific instructions \n",
    "#### Tactic 1: Use delimiters to clearly indicate distinct parts of the input\n",
    "- Delimiters can be anything like: ```, \"\"\", < >, `<tag> </tag>`, `:`"
   ]
  },
  {
   "cell_type": "code",
   "execution_count": 15,
   "id": "58b2f969-d435-463a-8668-b036a2b74db1",
   "metadata": {
    "id": "8q8gh5geAH3U"
   },
   "outputs": [
    {
     "name": "stdout",
     "output_type": "stream",
     "text": [
      "\n",
      "Instructions that are clear and specific guide the model towards the desired output, and reduce the chances of receiving irrelevant or incorrect responses.\n"
     ]
    }
   ],
   "source": [
    "text = f\"\"\"\n",
    "You should express what you want a model to do by \\ \n",
    "providing instructions that are as clear and \\ \n",
    "specific as you can possibly make them. \\ \n",
    "This will guide the model towards the desired output, \\ \n",
    "and reduce the chances of receiving irrelevant \\ \n",
    "or incorrect responses. Don't confuse writing a \\ \n",
    "clear prompt with writing a short prompt. \\ \n",
    "In many cases, longer prompts provide more clarity \\ \n",
    "and context for the model, which can lead to \\ \n",
    "more detailed and relevant outputs.\n",
    "\"\"\"\n",
    "prompt = f\"\"\"\n",
    "Summarize the text delimited by triple backticks \\ \n",
    "into a single sentence.\n",
    "```{text}```\n",
    "\"\"\"\n",
    "response = get_completion(prompt)\n",
    "print(response)"
   ]
  },
  {
   "cell_type": "markdown",
   "id": "26b0245a-f643-4eed-9eb1-fdb45a0a6913",
   "metadata": {
    "id": "W17RwlNeAL6U"
   },
   "source": [
    "#### Tactic 2: Ask for a structured output\n",
    "- JSON, HTML"
   ]
  },
  {
   "cell_type": "code",
   "execution_count": 16,
   "id": "8610369e-0d2b-4050-9a0d-a73dd09e5942",
   "metadata": {
    "id": "pI6Tz4beAPl0"
   },
   "outputs": [
    {
     "name": "stdout",
     "output_type": "stream",
     "text": [
      "\n",
      "{\n",
      "\"book_id\": 1,\n",
      "\"title\": \"The Magic Carpet\",\n",
      "\"author\": \"Mary Shelley\",\n",
      "\"genre\": \"Fiction\"\n",
      "},\n",
      "{\n",
      "\"book_id\": 2,\n",
      "\"title\": \"The Time Machine\",\n",
      "\"author\": \"H.G. Wells\",\n",
      "\"genre\": \"Fiction\"\n",
      "},\n",
      "{\n",
      "\"book_id\": 3,\n",
      "\"title\": \"The War of the Worlds\",\n",
      "\"author\": \"H.G. Wells\",\n",
      "\"genre\": \"Fiction\"\n",
      "}\n"
     ]
    }
   ],
   "source": [
    "prompt = f\"\"\"\n",
    "Generate a list of three made-up book titles along \\ \n",
    "with their authors and genres. \n",
    "Provide them in JSON format with the following keys: \n",
    "book_id, title, author, genre.\n",
    "\"\"\"\n",
    "response = get_completion(prompt)\n",
    "print(response)"
   ]
  },
  {
   "cell_type": "markdown",
   "id": "2e480bd2-05bd-4135-9bde-dfd233947012",
   "metadata": {
    "id": "wwOWU_quATVi"
   },
   "source": [
    "#### Tactic 3: Ask the model to check whether conditions are satisfied"
   ]
  },
  {
   "cell_type": "code",
   "execution_count": 17,
   "id": "4c0153a9-4dac-47e3-bcb9-80741d434102",
   "metadata": {
    "id": "LTyp5F-LAV7h"
   },
   "outputs": [
    {
     "name": "stdout",
     "output_type": "stream",
     "text": [
      "Completion for Text 1:\n",
      "\n",
      "Step 1 - Get some water boiling\n",
      "Step 2 - Grab a cup and put a tea bag in it\n",
      "Step 3 - Once the water is hot enough, just pour it over the tea bag\n",
      "Step 4 - Let it sit for a bit so the tea can steep\n",
      "Step 5 - Take out the tea bag\n",
      "Step 6 - If you like, you can add some sugar or milk to taste\n",
      "Step 7 - And that's it! You've got yourself a delicious cup of tea to enjoy.\n"
     ]
    }
   ],
   "source": [
    "text_1 = f\"\"\"\n",
    "Making a cup of tea is easy! First, you need to get some \\ \n",
    "water boiling. While that's happening, \\ \n",
    "grab a cup and put a tea bag in it. Once the water is \\ \n",
    "hot enough, just pour it over the tea bag. \\ \n",
    "Let it sit for a bit so the tea can steep. After a \\ \n",
    "few minutes, take out the tea bag. If you \\ \n",
    "like, you can add some sugar or milk to taste. \\ \n",
    "And that's it! You've got yourself a delicious \\ \n",
    "cup of tea to enjoy.\n",
    "\"\"\"\n",
    "prompt = f\"\"\"\n",
    "You will be provided with text delimited by triple quotes. \n",
    "If it contains a sequence of instructions, \\ \n",
    "re-write those instructions in the following format:\n",
    "\n",
    "Step 1 - ...\n",
    "Step 2 - …\n",
    "…\n",
    "Step N - …\n",
    "\n",
    "If the text does not contain a sequence of instructions, \\ \n",
    "then simply write \\\"No steps provided.\\\"\n",
    "\n",
    "\\\"\\\"\\\"{text_1}\\\"\\\"\\\"\n",
    "\"\"\"\n",
    "response = get_completion(prompt)\n",
    "print(\"Completion for Text 1:\")\n",
    "print(response)"
   ]
  },
  {
   "cell_type": "code",
   "execution_count": 35,
   "id": "3f989300-d7c8-4c0f-ac65-4d6709d7887e",
   "metadata": {
    "id": "4kKcajHLAY0E"
   },
   "outputs": [
    {
     "name": "stdout",
     "output_type": "stream",
     "text": [
      "Completion for Text 2:\n",
      "\n",
      "Step 1 - The sun is shining brightly today, and the birds are singing. It's a beautiful day to go for a walk in the park.\n",
      "Step 2 - The flowers are blooming, and the trees are swaying gently in the breeze. People are out and about, enjoying the lovely weather.\n",
      "Step 3 - Some are having picnics, while others are playing games or simply relaxing on the grass. It's a perfect day to spend time outdoors and appreciate the beauty of nature.\n"
     ]
    }
   ],
   "source": [
    "text_2 = f\"\"\"\n",
    "The sun is shining brightly today, and the birds are \\\n",
    "singing. It's a beautiful day to go for a \\ \n",
    "walk in the park. The flowers are blooming, and the \\ \n",
    "trees are swaying gently in the breeze. People \\ \n",
    "are out and about, enjoying the lovely weather. \\ \n",
    "Some are having picnics, while others are playing \\ \n",
    "games or simply relaxing on the grass. It's a \\ \n",
    "perfect day to spend time outdoors and appreciate the \\ \n",
    "beauty of nature.\n",
    "\"\"\"\n",
    "prompt = f\"\"\"\n",
    "You will be provided with text delimited by triple quotes. \n",
    "If it contains a sequence of instructions, \\ \n",
    "re-write those instructions in the following format:\n",
    "\n",
    "Step 1 - ...\n",
    "Step 2 - …\n",
    "…\n",
    "Step N - …\n",
    "\n",
    "If the text does not contain a sequence of instructions, \\ \n",
    "then simply write \\\"No steps provided.\\\"\n",
    "\n",
    "\\\"\\\"\\\"{text_2}\\\"\\\"\\\"\n",
    "\"\"\"\n",
    "response = get_completion(prompt)\n",
    "print(\"Completion for Text 2:\")\n",
    "print(response)"
   ]
  },
  {
   "cell_type": "markdown",
   "id": "a28d506a-b9ea-49ae-b451-813bd5b260f4",
   "metadata": {
    "id": "9SkdYATrAcAH"
   },
   "source": [
    "#### Tactic 4: \"Few-shot\" prompting"
   ]
  },
  {
   "cell_type": "code",
   "execution_count": 19,
   "id": "57aba3d7-1137-4769-8485-971a794f5151",
   "metadata": {
    "id": "BCGJJTHPAeAD"
   },
   "outputs": [
    {
     "name": "stdout",
     "output_type": "stream",
     "text": [
      "\n",
      "<grandparent>: Resilience is the ability to bounce back from a difficult situation. It is the ability to recover from a challenge or a set-back. It is the ability to keep going, even when things are tough.\n",
      "\n",
      "Resilience is a key skill for success in life. It is the ability to keep going, even when things are tough. It is the ability to recover from a challenge or a set-back. It is the ability to bounce back from a difficult situation.\n"
     ]
    }
   ],
   "source": [
    "prompt = f\"\"\"\n",
    "Your task is to answer in a consistent style.\n",
    "\n",
    "<child>: Teach me about patience.\n",
    "\n",
    "<grandparent>: The river that carves the deepest \\ \n",
    "valley flows from a modest spring; the \\ \n",
    "grandest symphony originates from a single note; \\ \n",
    "the most intricate tapestry begins with a solitary thread.\n",
    "\n",
    "<child>: Teach me about resilience.\n",
    "\"\"\"\n",
    "response = get_completion(prompt)\n",
    "print(response)"
   ]
  },
  {
   "cell_type": "markdown",
   "id": "b1186c10-6bb3-4fd0-9924-03afe168d979",
   "metadata": {
    "id": "pjswK-IjAisD"
   },
   "source": [
    "### Principle 2: Give the model time to “think” \n",
    "\n",
    "#### Tactic 1: Specify the steps required to complete a task"
   ]
  },
  {
   "cell_type": "code",
   "execution_count": 29,
   "id": "f0c3eb92-8d69-4693-abd8-3f1fb99041bb",
   "metadata": {
    "id": "dCFByJ0HAk_o"
   },
   "outputs": [
    {
     "name": "stdout",
     "output_type": "stream",
     "text": [
      "Completion for prompt 1:\n",
      "1 - Summarize the following text delimited by triple backticks with 1 sentence.\n",
      "The story of two siblings, Jack and Jill, who went to fetch water from a hilltop well, and the misfortunes that befell them along the way.\n",
      "2 - Translate the summary into French.\n",
      "La légende de deux frères et sœurs, Jack et Jill, qui allaient chercher l'eau à la fontaine du sommet d'une colline, et les malheurs qui les accablaient tout au long de la route.\n",
      "3 - List each name in the French summary.\n",
      "Jack, Jill\n",
      "4 - Output a json object that contains the following keys: french_summary, num_names.\n",
      "{'french_summary': 'La légende de deux frères et sœurs, Jack et Jill, qui allaient chercher l'eau à la fontaine du sommet d'une colline, et les malheurs qui les accablaient tout au long de la route.', 'num_names': 2}\n"
     ]
    }
   ],
   "source": [
    "text = f\"\"\"\n",
    "In a charming village, siblings Jack and Jill set out on \\ \n",
    "a quest to fetch water from a hilltop \\ \n",
    "well. As they climbed, singing joyfully, misfortune \\ \n",
    "struck—Jack tripped on a stone and tumbled \\ \n",
    "down the hill, with Jill following suit. \\ \n",
    "Though slightly battered, the pair returned home to \\ \n",
    "comforting embraces. Despite the mishap, \\ \n",
    "their adventurous spirits remained undimmed, and they \\ \n",
    "continued exploring with delight.\n",
    "\"\"\"\n",
    "# example 1\n",
    "prompt_1 = f\"\"\"\n",
    "Perform the following actions: \n",
    "1 - Summarize the following text delimited by triple \\\n",
    "backticks with 1 sentence.\n",
    "2 - Translate the summary into French.\n",
    "3 - List each name in the French summary.\n",
    "4 - Output a json object that contains the following \\\n",
    "keys: french_summary, num_names.\n",
    "\n",
    "Separate your answers with line breaks.\n",
    "\n",
    "Text:\n",
    "```{text}```\n",
    "\"\"\"\n",
    "response = get_completion(prompt_1)\n",
    "print(\"Completion for prompt 1:\")\n",
    "print(response)"
   ]
  },
  {
   "cell_type": "markdown",
   "id": "bc5f3252-034b-4599-88e6-34acf7cc8148",
   "metadata": {
    "id": "ERn00uD2AqRF"
   },
   "source": [
    "#### Ask for output in a specified format"
   ]
  },
  {
   "cell_type": "code",
   "execution_count": 34,
   "id": "0bcba17d-fbe2-499f-a708-9fd8eafe9dcb",
   "metadata": {
    "id": "OotovChsAshF"
   },
   "outputs": [
    {
     "name": "stdout",
     "output_type": "stream",
     "text": [
      "\n",
      "Completion for prompt 2:\n",
      "Text: <\n",
      "In a charming village, siblings Jack and Jill set out on a quest to fetch water from a hilltop well. As they climbed, singing joyfully, misfortune struck—Jack tripped on a stone and tumbled down the hill, with Jill following suit. Though slightly battered, the pair returned home to comforting embraces. Despite the mishap, their adventurous spirits remained undimmed, and they continued exploring with delight.\n",
      ">\n",
      "Summary: <\n",
      "In a charming village, siblings Jack and Jill set out on a quest to fetch water from a hilltop well. As they climbed, singing joyfully, misfortune struck—Jack tripped on a stone and tumbled down the hill, with Jill following suit. Though slightly battered, the pair returned home to comforting embraces. Despite the mishap, their adventurous spirits remained undimmed, and they continued exploring with delight.\n",
      ">\n",
      "Translation: <\n",
      "In un village charmant, les frères et sœurs Jack et Jill démarrent une quête pour aller chercher l'eau à une fontaine sur un sommet. En climbant, chantant joyeusement, un malheur est survenu—Jack a glissé sur un rocher et a tombé basse, avec Jill suite. Malgré les difficultés, les deux retourneront à la maison pour être accueillés par des étreintes de confort. Malgré le désagrément, les esprits aventureux restaient intacts, et ils continueront à explorer avec joie.\n",
      ">\n",
      "Output JSON: {french_summary: \"In un village charmant, les frères et sœurs Jack et Jill démarrent une quête pour aller chercher l'eau à une fontaine sur un sommet. En climbant, chantant joyeusement, un malheur est survenu—Jack a glissé sur un rocher et a tombé basse, avec Jill suite. Malgré les difficultés, les deux retourneront à la maison pour être accueillés par des étreintes de confort. Malgré le désagrément, les esprits aventureux restaient intacts, et ils continueront à explorer avec joie.\", num_names: \"2\"}\n",
      "Names: Jack, Jill\n"
     ]
    }
   ],
   "source": [
    "prompt_2 = f\"\"\"\n",
    "Your task is to perform the following actions: \n",
    "1 - Summarize the following text delimited by \n",
    "  <> with 1 sentence.\n",
    "2 - Translate the summary into French.\n",
    "3 - List each name in the French summary.\n",
    "4 - Output a json object that contains the \n",
    "  following keys: french_summary, num_names.\n",
    "\n",
    "Use the following format:\n",
    "Text: <text to summarize>\n",
    "Summary: <summary>\n",
    "Translation: <summary translation>\n",
    "Output JSON: <json with summary and num_names>\n",
    "Names: <list of names in Italian summary>\n",
    "\n",
    "Text: <{text}>\n",
    "\"\"\"\n",
    "response = get_completion(prompt_2)\n",
    "print(\"\\nCompletion for prompt 2:\")\n",
    "print(response)"
   ]
  },
  {
   "cell_type": "markdown",
   "id": "5139e34f-84df-4da2-8324-b002d8b82c18",
   "metadata": {
    "id": "zJvwvtopAvk3"
   },
   "source": [
    "#### Tactic 2: Instruct the model to work out its own solution before rushing to a conclusion"
   ]
  },
  {
   "cell_type": "code",
   "execution_count": 36,
   "id": "35b0d1b4-ccce-4b5b-ac4f-d06cf70e5b38",
   "metadata": {
    "id": "ncINy2wkAytb"
   },
   "outputs": [
    {
     "name": "stdout",
     "output_type": "stream",
     "text": [
      "The student's solution is correct.\n"
     ]
    }
   ],
   "source": [
    "prompt = f\"\"\"\n",
    "Determine if the student's solution is correct or not.\n",
    "\n",
    "Question:\n",
    "I'm building a solar power installation and I need \\\n",
    " help working out the financials. \n",
    "- Land costs $100 / square foot\n",
    "- I can buy solar panels for $250 / square foot\n",
    "- I negotiated a contract for maintenance that will cost \\ \n",
    "me a flat $100k per year, and an additional $10 / square \\\n",
    "foot\n",
    "What is the total cost for the first year of operations \n",
    "as a function of the number of square feet.\n",
    "\n",
    "Student's Solution:\n",
    "Let x be the size of the installation in square feet.\n",
    "Costs:\n",
    "1. Land cost: 100x\n",
    "2. Solar panel cost: 250x\n",
    "3. Maintenance cost: 100,000 + 100x\n",
    "Total cost: 100x + 250x + 100,000 + 100x = 450x + 100,000\n",
    "\"\"\"\n",
    "response = get_completion(prompt)\n",
    "print(response)"
   ]
  },
  {
   "cell_type": "markdown",
   "id": "fce2142e-b054-4881-a736-dc234fc45717",
   "metadata": {
    "id": "oKon0Aj3A2b3"
   },
   "source": [
    "#### Note that the student's solution is actually not correct.\n",
    "#### We can fix this by instructing the model to work out its own solution first."
   ]
  },
  {
   "cell_type": "code",
   "execution_count": 57,
   "id": "a888d2a8-8236-44d9-be3c-b790a2dec951",
   "metadata": {
    "id": "XWVltxA2A4tv"
   },
   "outputs": [
    {
     "name": "stdout",
     "output_type": "stream",
     "text": [
      "Using the same variable names as the student, we can write the equation as:\n",
      "\n",
      "Total cost = 100x + 250x + 100,000 + 10x = 360x + 100,000\n",
      "\n",
      "Solving for x:\n",
      "\n",
      "x = 360,000 - 100,000 - 250,000 - 100,000 - 10,000 = 150,000\n",
      "\n",
      "So the total cost for the first year of operations is $5,100,000.\n",
      "\n",
      "Is the student's solution the same as the actual solution? Yes.\n",
      "\n",
      "Student grade: Correct.\n"
     ]
    }
   ],
   "source": [
    "prompt = f\"\"\"\n",
    "Your task is to determine if the student's solution \\\n",
    "is correct or not.\n",
    "To solve the problem do the following:\n",
    "- First, work out your own solution to the problem. \n",
    "- Then compare your solution to the student's solution \\ \n",
    "and evaluate if the student's solution is correct or not. \n",
    "Don't decide if the student's solution is correct until \n",
    "you have done the problem yourself.\n",
    "\n",
    "Use the following format:\n",
    "Question:\n",
    "```\n",
    "question here\n",
    "```\n",
    "Student's solution:\n",
    "```\n",
    "student's solution here\n",
    "```\n",
    "Actual solution:\n",
    "```\n",
    "steps to work out the solution and your solution here\n",
    "```\n",
    "Is the student's solution the same as actual solution \\\n",
    "just calculated:\n",
    "```\n",
    "yes or no\n",
    "```\n",
    "Student grade:\n",
    "```\n",
    "correct or incorrect\n",
    "```\n",
    "\n",
    "Question:\n",
    "```\n",
    "I'm building a solar power installation and I need help \\\n",
    "working out the financials. \n",
    "- Land costs $100 per square foot\n",
    "- I can buy solar panels for $250 per square foot\n",
    "- I negotiated a contract for maintenance that will cost \\\n",
    "me a flat $100k per year, and an additional $10 per square \\\n",
    "foot\n",
    "What is the total cost for the first year of operations \\\n",
    "as a function of the number of square feet.\n",
    "``` \n",
    "Student's solution:\n",
    "```\n",
    "Let x be the size of the installation in square feet.\n",
    "Costs:\n",
    "1. Land cost: 100x\n",
    "2. Solar panel cost: 250x\n",
    "3. Maintenance cost: 100,000 + 100x\n",
    "Total cost: 100x + 250x + 100,000 + 10x = 360x + 100,000\n",
    "```\n",
    "Actual solution:\n",
    "\"\"\"\n",
    "response = get_completion(prompt)\n",
    "print(response)"
   ]
  },
  {
   "cell_type": "markdown",
   "id": "fd9922bb-1fd9-482e-8891-2d0e85646749",
   "metadata": {
    "id": "ZldnpL2EA8Y6"
   },
   "source": [
    "## Model Limitations: Hallucinations\n",
    "- Boie is a real company, the product name is not real."
   ]
  },
  {
   "cell_type": "code",
   "execution_count": 58,
   "id": "18319104-75e6-4ae2-b3b6-573e100d6dc1",
   "metadata": {
    "id": "sCwZBbeGBAA4"
   },
   "outputs": [
    {
     "name": "stdout",
     "output_type": "stream",
     "text": [
      "The AeroGlide UltraSlim Smart Toothbrush by Boie is a high-quality electric toothbrush that provides a comfortable and effective brushing experience. The toothbrush features a slim and lightweight design, making it easy to use and comfortable to hold. The toothbrush also has a built-in timer that helps ensure you are brushing for the recommended 2 minutes. The toothbrush is powered by a rechargeable battery, so you don't have to worry about replacing batteries.\n"
     ]
    }
   ],
   "source": [
    "prompt = f\"\"\"\n",
    "Tell me about AeroGlide UltraSlim Smart Toothbrush by Boie\n",
    "\"\"\"\n",
    "response = get_completion(prompt)\n",
    "print(response)"
   ]
  },
  {
   "cell_type": "markdown",
   "id": "f306437e-ec94-478d-bae3-60b9a676b203",
   "metadata": {
    "id": "ShlD6Mp_BC81"
   },
   "source": [
    "## Try experimenting on your own!"
   ]
  },
  {
   "cell_type": "markdown",
   "id": "cece17cc-e9c0-433d-b1ce-615c47d452da",
   "metadata": {
    "id": "ziFeaBi4BIdz"
   },
   "source": [
    "#### Notes on using the cohere API outside of this classroom\n",
    "\n",
    "To install the cohere Python library:\n",
    "```\n",
    "!pip install cohere\n",
    "```\n",
    "\n",
    "The library needs to be configured with your account's secret key, which is available on the [website](https://dashboard.cohere.ai/api-keys). \n",
    "\n",
    "You can either set it as the `OPENAI_API_KEY` environment variable before using the library:\n",
    " ```\n",
    " !export COHERE_API_KEY='sk-...'\n",
    " ```\n",
    "\n",
    "Or, set `cohere.api_key` to its value:\n",
    "\n",
    "```\n",
    "import cohere\n",
    "cohere.api_key = \"...\"\n",
    "```"
   ]
  },
  {
   "cell_type": "markdown",
   "id": "2dbaabac-42ce-4453-a1d8-c0db4ec61494",
   "metadata": {
    "id": "368galN-BQD1",
    "jp-MarkdownHeadingCollapsed": true
   },
   "source": [
    "#### A note about the backslash\n",
    "- In the course, we are using a backslash `\\` to make the text fit on the screen without inserting newline '\\n' characters.\n",
    "- GPT-3 isn't really affected whether you insert newline characters or not.  But when working with LLMs in general, you may consider whether newline characters in your prompt may affect the model's performance."
   ]
  },
  {
   "cell_type": "markdown",
   "id": "a54854ef-2d6c-4887-9b6c-25e942735c52",
   "metadata": {
    "id": "L9DtiP-0GIcj"
   },
   "source": [
    "# 2. Iterative Prompt Develelopment\n",
    "In this lesson, you'll iteratively analyze and refine your prompts to generate marketing copy from a product fact sheet.\n",
    "\n",
    "## Setup"
   ]
  },
  {
   "cell_type": "markdown",
   "id": "261660c5-981c-4011-a1d7-7ba907383471",
   "metadata": {
    "id": "japrg7mAGR2g"
   },
   "source": [
    "## Generate a marketing product description from a product fact sheet"
   ]
  },
  {
   "cell_type": "code",
   "execution_count": 59,
   "id": "7ff2b074-f63b-4e06-b6d6-5066e7cff8b9",
   "metadata": {
    "id": "463Hski3GUF_"
   },
   "outputs": [],
   "source": [
    "fact_sheet_chair = \"\"\"\n",
    "OVERVIEW\n",
    "- Part of a beautiful family of mid-century inspired office furniture, \n",
    "including filing cabinets, desks, bookcases, meeting tables, and more.\n",
    "- Several options of shell color and base finishes.\n",
    "- Available with plastic back and front upholstery (SWC-100) \n",
    "or full upholstery (SWC-110) in 10 fabric and 6 leather options.\n",
    "- Base finish options are: stainless steel, matte black, \n",
    "gloss white, or chrome.\n",
    "- Chair is available with or without armrests.\n",
    "- Suitable for home or business settings.\n",
    "- Qualified for contract use.\n",
    "\n",
    "CONSTRUCTION\n",
    "- 5-wheel plastic coated aluminum base.\n",
    "- Pneumatic chair adjust for easy raise/lower action.\n",
    "\n",
    "DIMENSIONS\n",
    "- WIDTH 53 CM | 20.87”\n",
    "- DEPTH 51 CM | 20.08”\n",
    "- HEIGHT 80 CM | 31.50”\n",
    "- SEAT HEIGHT 44 CM | 17.32”\n",
    "- SEAT DEPTH 41 CM | 16.14”\n",
    "\n",
    "OPTIONS\n",
    "- Soft or hard-floor caster options.\n",
    "- Two choices of seat foam densities: \n",
    " medium (1.8 lb/ft3) or high (2.8 lb/ft3)\n",
    "- Armless or 8 position PU armrests \n",
    "\n",
    "MATERIALS\n",
    "SHELL BASE GLIDER\n",
    "- Cast Aluminum with modified nylon PA6/PA66 coating.\n",
    "- Shell thickness: 10 mm.\n",
    "SEAT\n",
    "- HD36 foam\n",
    "\n",
    "COUNTRY OF ORIGIN\n",
    "- Italy\n",
    "\"\"\""
   ]
  },
  {
   "cell_type": "code",
   "execution_count": 69,
   "id": "ec0ce7de-4fe2-4c14-8dc7-2cf2f3cce3c9",
   "metadata": {
    "id": "1GS_smYoGXPV"
   },
   "outputs": [
    {
     "name": "stdout",
     "output_type": "stream",
     "text": [
      "Mid-century inspired office chair with a beautiful family of mid-century inspired office furniture. Several options of shell color and base finishes. Available with plastic back and front upholstery (SWC-100) or full upholstery (SWC-110) in 10 fabric and 6 leather options. Base finish options are: stainless steel, matte black, gloss white, or chrome. Chair is available with or without armrests. Suitable for home or business settings. Qualified for contract use.\n"
     ]
    }
   ],
   "source": [
    "prompt = f\"\"\"\n",
    "Your task is to help a marketing team create a \n",
    "description for a retail website of a product based \n",
    "on a technical fact sheet.\n",
    "\n",
    "Write a product description based on the information \n",
    "provided in the technical specifications delimited by \n",
    "triple backticks.\n",
    "\n",
    "Technical specifications: ```{fact_sheet_chair}```\n",
    "\"\"\"\n",
    "response = get_completion(prompt)\n",
    "print(response)\n"
   ]
  },
  {
   "cell_type": "markdown",
   "id": "09210ad0-8634-4c7f-990f-5fe071d16f7d",
   "metadata": {
    "id": "uQLhg4B5GZvZ"
   },
   "source": [
    "## Issue 1: The text is too long \n",
    "- Limit the number of words/sentences/characters."
   ]
  },
  {
   "cell_type": "code",
   "execution_count": 75,
   "id": "a8e00882-00f9-4a94-920f-bb5f0910948c",
   "metadata": {
    "id": "ttK1xlwZGeBp"
   },
   "outputs": [
    {
     "name": "stdout",
     "output_type": "stream",
     "text": [
      "Mid-century inspired office chair.\n",
      "\n",
      "Available with plastic back and front upholstery (SWC-100) or full upholstery (SWC-110) in 10 fabric and 6 leather options.\n",
      "\n",
      "Base finish options are: stainless steel, matte black, gloss white, or chrome.\n",
      "\n",
      "Chair is available with or without armrests.\n",
      "\n",
      " Suitable for home or business settings.\n",
      "\n",
      "Qualified for contract use.\n",
      "\n",
      "Width 53 CM | 20.87”\n",
      "Depth 51 CM | 20.08”\n",
      "Height 80 CM | 31.50”\n",
      "Seat Height 44 CM | 17.32”\n",
      "Seat Depth 41 CM | 16.14”\n",
      "\n",
      "Options:\n",
      "Soft or hard-floor caster options.\n",
      "Two choices of seat foam densities: medium (1.8 lb/ft3) or high (2.8 lb/ft3).\n",
      "Armless or 8 position PU armrests \n",
      "\n",
      "Materials:\n",
      "Shell Base Glider: Cast Aluminum with modified nylon PA6/PA66 coating.\n",
      "Shell thickness: 10 mm.\n",
      "Seat: HD36 foam\n",
      "\n",
      "Country of Origin:\n",
      "Italy\n"
     ]
    }
   ],
   "source": [
    "prompt = f\"\"\"\n",
    "Your task is to help a marketing team create a \n",
    "description for a retail website of a product based \n",
    "on a technical fact sheet.\n",
    "\n",
    "Write a product description based on the information \n",
    "provided in the technical specifications delimited by \n",
    "triple backticks.\n",
    "\n",
    "Use at most 50 words.\n",
    "\n",
    "Technical specifications: ```{fact_sheet_chair}```\n",
    "\"\"\"\n",
    "response = get_completion(prompt)\n",
    "print(response)\n"
   ]
  },
  {
   "cell_type": "code",
   "execution_count": 76,
   "id": "fa02a3a5-64a8-4b0f-95a4-b1a90d543712",
   "metadata": {
    "id": "wfBCEY7WGgKP"
   },
   "outputs": [
    {
     "data": {
      "text/plain": [
       "108"
      ]
     },
     "execution_count": 76,
     "metadata": {},
     "output_type": "execute_result"
    }
   ],
   "source": [
    "len(response.split(\" \"))"
   ]
  },
  {
   "cell_type": "markdown",
   "id": "1a98bbbd-fa1d-40c3-8e59-40d7287e42bf",
   "metadata": {
    "id": "08PaEimyGibD"
   },
   "source": [
    "## Issue 2. Text focuses on the wrong details\n",
    "- Ask it to focus on the aspects that are relevant to the intended audience."
   ]
  },
  {
   "cell_type": "code",
   "execution_count": 77,
   "id": "b2080d7c-ac63-42fa-94cf-5671cf08873d",
   "metadata": {
    "id": "C3zpMAMmGkiv"
   },
   "outputs": [
    {
     "name": "stdout",
     "output_type": "stream",
     "text": [
      "Mid-century inspired office chair.\n",
      "- 5-wheel plastic coated aluminum base.\n",
      "- Pneumatic chair adjust for easy raise/lower action.\n",
      "- Seat with HD36 foam.\n",
      "- Cast Aluminum with modified nylon PA6/PA66 coating.\n",
      "- Shell thickness: 10 mm.\n",
      "- Suitable for home or business settings.\n",
      "- Qualified for contract use.\n",
      "- Armless or 8 position PU armrests.\n",
      "- Two choices of seat foam densities: medium (1.8 lb/ft3) or high (2.8 lb/ft3).\n",
      "- Soft or hard-floor caster options.\n",
      "- Available with plastic back and front upholstery (SWC-100) \n",
      "or full upholstery (SWC-110) in 10 fabric and 6 leather options.\n",
      "- Base finish options are: stainless steel, matte black, \n",
      "gloss white, or chrome.\n"
     ]
    }
   ],
   "source": [
    "prompt = f\"\"\"\n",
    "Your task is to help a marketing team create a \n",
    "description for a retail website of a product based \n",
    "on a technical fact sheet.\n",
    "\n",
    "Write a product description based on the information \n",
    "provided in the technical specifications delimited by \n",
    "triple backticks.\n",
    "\n",
    "The description is intended for furniture retailers, \n",
    "so should be technical in nature and focus on the \n",
    "materials the product is constructed from.\n",
    "\n",
    "Use at most 50 words.\n",
    "\n",
    "Technical specifications: ```{fact_sheet_chair}```\n",
    "\"\"\"\n",
    "response = get_completion(prompt)\n",
    "print(response)"
   ]
  },
  {
   "cell_type": "code",
   "execution_count": 78,
   "id": "13b2e055-c9b1-4a5e-8b92-dd1aa352acb8",
   "metadata": {
    "id": "88bNVNwJGsiT"
   },
   "outputs": [
    {
     "name": "stdout",
     "output_type": "stream",
     "text": [
      "Technical specifications:\n",
      "\n",
      "OVERVIEW\n",
      "- Part of a beautiful family of mid-century inspired office furniture, including filing cabinets, desks, bookcases, meeting tables, and more.\n",
      "- Several options of shell color and base finishes.\n",
      "- Available with plastic back and front upholstery (SWC-100) or full upholstery (SWC-110) in 10 fabric and 6 leather options.\n",
      "- Base finish options are: stainless steel, matte black, gloss white, or chrome.\n",
      "- Chair is available with or without armrests.\n",
      "- Suitable for home or business settings.\n",
      "- Qualified for contract use.\n",
      "\n",
      "CONSTRUCTION\n",
      "- 5-wheel plastic coated aluminum base.\n",
      "- Pneumatic chair adjust for easy raise/lower action.\n",
      "\n",
      "DIMENSIONS\n",
      "- WIDTH 53 CM | 20.87”\n",
      "- DEPTH 51 CM | 20.08”\n",
      "- HEIGHT 80 CM | 31.50”\n",
      "- SEAT HEIGHT 44 CM | 17.32”\n",
      "- SEAT DEPTH 41 CM | 16.14”\n",
      "\n",
      "OPTIONS\n",
      "- Soft or hard-floor caster options.\n",
      "- Two choices of seat foam densities: medium (1.8 lb/ft3) or high (2.8 lb/ft3)\n",
      "- Armless or 8 position PU armrests \n",
      "\n",
      "MATERIALS\n",
      "SHELL BASE GLIDER\n",
      "- Cast Aluminum with modified nylon PA6/PA66 coating.\n",
      "- Shell thickness: 10 mm.\n",
      "SEAT\n",
      "- HD36 foam\n",
      "\n",
      "COUNTRY OF ORIGIN\n",
      "- Italy\n"
     ]
    }
   ],
   "source": [
    "prompt = f\"\"\"\n",
    "Your task is to help a marketing team create a \n",
    "description for a retail website of a product based \n",
    "on a technical fact sheet.\n",
    "\n",
    "Write a product description based on the information \n",
    "provided in the technical specifications delimited by \n",
    "triple backticks.\n",
    "\n",
    "The description is intended for furniture retailers, \n",
    "so should be technical in nature and focus on the \n",
    "materials the product is constructed from.\n",
    "\n",
    "At the end of the description, include every 7-character \n",
    "Product ID in the technical specification.\n",
    "\n",
    "Use at most 50 words.\n",
    "\n",
    "Technical specifications: ```{fact_sheet_chair}```\n",
    "\"\"\"\n",
    "response = get_completion(prompt)\n",
    "print(response)"
   ]
  },
  {
   "cell_type": "markdown",
   "id": "b988323e-cfe4-4f9f-bda5-62a33e2b9448",
   "metadata": {
    "id": "zm1claQoGvGL"
   },
   "source": [
    "## Issue 3. Description needs a table of dimensions\n",
    "- Ask it to extract information and organize it in a table."
   ]
  },
  {
   "cell_type": "code",
   "execution_count": 79,
   "id": "993dd0b5-ff00-46be-b405-b9a65ea9111a",
   "metadata": {
    "id": "0t88AoQNGx0H"
   },
   "outputs": [
    {
     "name": "stdout",
     "output_type": "stream",
     "text": [
      "<div>\n",
      "The SWC-100/110 is a beautiful mid-century inspired office chair. It is part of a family of office furniture that includes filing cabinets, desks, bookcases, meeting tables, and more. The SWC-100/110 is available with a plastic back and front upholstery (SWC-100) or full upholstery (SWC-110) in 10 fabric and 6 leather options. The chair is available with or without armrests. The base finish options are: stainless steel, matte black, gloss white, or chrome. The chair is suitable for home or business settings and is qualified for contract use.\n",
      "\n",
      "The SWC-100/110 has a 5-wheel plastic coated aluminum base. It has a pneumatic chair adjust for easy raise/lower action.\n",
      "\n",
      "The chair's dimensions are: WIDTH 53 CM | 20.87”, DEPTH 51 CM | 20.08”, HEIGHT 80 CM | 31.50”, SEAT HEIGHT 44 CM | 17.32”, SEAT DEPTH 41 CM | 16.14”.\n",
      "\n",
      "The SWC-100/110 is made in Italy.\n",
      "</div>\n",
      "\n",
      "<table class=\"product_dimensions\">\n",
      "\t<tr>\n",
      "\t\t<th>Dimension</th>\n",
      "\t\t<th>Value</th>\n",
      "\t</tr>\n",
      "\t<tr>\n",
      "\t\t<td>Width</td>\n",
      "\t\t<td>53 cm | 20.87</td>\n",
      "\t</tr>\n",
      "\t<tr>\n",
      "\t\t<td>Depth</td>\n",
      "\t\t<td>51 cm | 20.08</td>\n",
      "\t</tr>\n",
      "\t<tr>\n",
      "\t\t<td>Height</td>\n",
      "\t\t<td>80 cm | 31.50</td>\n",
      "\t</tr>\n",
      "\t<tr>\n",
      "\t\t<td>Seat Height</td>\n",
      "\t\t<td>44 cm | 17.32</td>\n",
      "\t</tr>\n",
      "\t<tr>\n",
      "\t\t<td>Seat Depth</td>\n",
      "\t\t<td>41 cm | 16.14</td>\n",
      "\t</tr>\n",
      "</table>\n",
      "\n"
     ]
    }
   ],
   "source": [
    "prompt = f\"\"\"\n",
    "Your task is to help a marketing team create a \n",
    "description for a retail website of a product based \n",
    "on a technical fact sheet.\n",
    "\n",
    "Write a product description based on the information \n",
    "provided in the technical specifications delimited by \n",
    "triple backticks.\n",
    "\n",
    "The description is intended for furniture retailers, \n",
    "so should be technical in nature and focus on the \n",
    "materials the product is constructed from.\n",
    "\n",
    "At the end of the description, include every 7-character \n",
    "Product ID in the technical specification.\n",
    "\n",
    "After the description, include a table that gives the \n",
    "product's dimensions. The table should have two columns.\n",
    "In the first column include the name of the dimension. \n",
    "In the second column include the measurements in inches only.\n",
    "\n",
    "Give the table the title 'Product Dimensions'.\n",
    "\n",
    "Format everything as HTML that can be used in a website. \n",
    "Place the description in a <div> element.\n",
    "\n",
    "Technical specifications: ```{fact_sheet_chair}```\n",
    "\"\"\"\n",
    "\n",
    "response = get_completion(prompt)\n",
    "print(response)"
   ]
  },
  {
   "cell_type": "markdown",
   "id": "eb20fccb-4307-4a49-bddb-d1c02dd7bd19",
   "metadata": {
    "id": "Msdd_7s2G02l"
   },
   "source": [
    "## Load Python libraries to view HTML"
   ]
  },
  {
   "cell_type": "code",
   "execution_count": 80,
   "id": "2618e347-5868-436e-ae6d-16de04c7041c",
   "metadata": {
    "id": "as0ohsSAG4tQ"
   },
   "outputs": [],
   "source": [
    "from IPython.display import display, HTML"
   ]
  },
  {
   "cell_type": "code",
   "execution_count": 81,
   "id": "adf9938a-cbe1-4fc2-86b6-2622e84f83e0",
   "metadata": {
    "id": "Dl4E2C38G6yj"
   },
   "outputs": [
    {
     "data": {
      "text/html": [
       "<div>\n",
       "The SWC-100/110 is a beautiful mid-century inspired office chair. It is part of a family of office furniture that includes filing cabinets, desks, bookcases, meeting tables, and more. The SWC-100/110 is available with a plastic back and front upholstery (SWC-100) or full upholstery (SWC-110) in 10 fabric and 6 leather options. The chair is available with or without armrests. The base finish options are: stainless steel, matte black, gloss white, or chrome. The chair is suitable for home or business settings and is qualified for contract use.\n",
       "\n",
       "The SWC-100/110 has a 5-wheel plastic coated aluminum base. It has a pneumatic chair adjust for easy raise/lower action.\n",
       "\n",
       "The chair's dimensions are: WIDTH 53 CM | 20.87”, DEPTH 51 CM | 20.08”, HEIGHT 80 CM | 31.50”, SEAT HEIGHT 44 CM | 17.32”, SEAT DEPTH 41 CM | 16.14”.\n",
       "\n",
       "The SWC-100/110 is made in Italy.\n",
       "</div>\n",
       "\n",
       "<table class=\"product_dimensions\">\n",
       "\t<tr>\n",
       "\t\t<th>Dimension</th>\n",
       "\t\t<th>Value</th>\n",
       "\t</tr>\n",
       "\t<tr>\n",
       "\t\t<td>Width</td>\n",
       "\t\t<td>53 cm | 20.87</td>\n",
       "\t</tr>\n",
       "\t<tr>\n",
       "\t\t<td>Depth</td>\n",
       "\t\t<td>51 cm | 20.08</td>\n",
       "\t</tr>\n",
       "\t<tr>\n",
       "\t\t<td>Height</td>\n",
       "\t\t<td>80 cm | 31.50</td>\n",
       "\t</tr>\n",
       "\t<tr>\n",
       "\t\t<td>Seat Height</td>\n",
       "\t\t<td>44 cm | 17.32</td>\n",
       "\t</tr>\n",
       "\t<tr>\n",
       "\t\t<td>Seat Depth</td>\n",
       "\t\t<td>41 cm | 16.14</td>\n",
       "\t</tr>\n",
       "</table>\n"
      ],
      "text/plain": [
       "<IPython.core.display.HTML object>"
      ]
     },
     "metadata": {},
     "output_type": "display_data"
    }
   ],
   "source": [
    "display(HTML(response))"
   ]
  },
  {
   "cell_type": "markdown",
   "id": "87cfdecd-de81-4d39-a49d-47e45ccb481c",
   "metadata": {
    "id": "ukXcw3I7G8xT"
   },
   "source": [
    "## Try experimenting on your own!"
   ]
  }
 ],
 "metadata": {
  "kernelspec": {
   "display_name": "Python 3 (ipykernel)",
   "language": "python",
   "name": "python3"
  },
  "language_info": {
   "codemirror_mode": {
    "name": "ipython",
    "version": 3
   },
   "file_extension": ".py",
   "mimetype": "text/x-python",
   "name": "python",
   "nbconvert_exporter": "python",
   "pygments_lexer": "ipython3",
   "version": "3.10.9"
  }
 },
 "nbformat": 4,
 "nbformat_minor": 5
}
